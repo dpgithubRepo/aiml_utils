{
 "cells": [
  {
   "cell_type": "code",
   "execution_count": 245,
   "metadata": {},
   "outputs": [
    {
     "name": "stdout",
     "output_type": "stream",
     "text": [
      "The tensorboard extension is already loaded. To reload it, use:\n",
      "  %reload_ext tensorboard\n"
     ]
    }
   ],
   "source": [
    "import tensorflow as tf\n",
    "from tensorflow import keras\n",
    "from tensorflow.keras.models import Sequential\n",
    "from tensorflow.keras.layers import Dense, Flatten, Conv2D,MaxPooling2D, Dropout\n",
    "\n",
    "import matplotlib.pyplot as plt\n",
    "%matplotlib inline\n",
    "\n",
    "from tensorflow.keras.utils import to_categorical\n",
    "\n",
    "%load_ext tensorboard\n",
    "import datetime"
   ]
  },
  {
   "cell_type": "code",
   "execution_count": 247,
   "metadata": {},
   "outputs": [],
   "source": [
    "(train_images,train_labels),(test_images,test_labels)=keras.datasets.mnist.load_data()"
   ]
  },
  {
   "cell_type": "code",
   "execution_count": 248,
   "metadata": {},
   "outputs": [
    {
     "data": {
      "image/png": "[encoded data removed]",
      "text/plain": [
       "<Figure size 432x288 with 9 Axes>"
      ]
     },
     "metadata": {},
     "output_type": "display_data"
    }
   ],
   "source": [
    "fig = plt.figure()\n",
    "for i in range(9):\n",
    "    plt.subplot(3,3,i+1)\n",
    "    plt.tight_layout()\n",
    "    plt.imshow(test_images[i], cmap='gray')\n",
    "    plt.xticks([])\n",
    "    plt.yticks([])\n",
    "    plt.title(test_labels[i])"
   ]
  },
  {
   "cell_type": "code",
   "execution_count": 249,
   "metadata": {},
   "outputs": [
    {
     "data": {
      "image/png": "[encoded data removed]",
      "text/plain": [
       "<Figure size 432x288 with 2 Axes>"
      ]
     },
     "metadata": {
      "needs_background": "light"
     },
     "output_type": "display_data"
    }
   ],
   "source": [
    "    fig = plt.figure()\n",
    "    plt.subplot(2,1,1)\n",
    "    plt.tight_layout()\n",
    "    plt.imshow(test_images[9], cmap='gray')\n",
    "    plt.title(test_labels[9])\n",
    "    plt.xticks([])\n",
    "    plt.yticks([])\n",
    "    plt.subplot(2,1,2)\n",
    "    plt.hist(test_images[9].reshape(784))\n",
    "    plt.title('pixel distribution')\n",
    "    plt.show()"
   ]
  },
  {
   "cell_type": "code",
   "execution_count": 250,
   "metadata": {},
   "outputs": [
    {
     "name": "stdout",
     "output_type": "stream",
     "text": [
      "train images shape (60000, 28, 28)\n",
      "train labels shape (60000,)\n",
      "test images shape (10000, 28, 28)\n",
      "test labels shape (10000,)\n"
     ]
    }
   ],
   "source": [
    "print(\"train images shape\", train_images.shape)\n",
    "print(\"train labels shape\", train_labels.shape)\n",
    "\n",
    "print(\"test images shape\", test_images.shape)\n",
    "print(\"test labels shape\", test_labels.shape)"
   ]
  },
  {
   "cell_type": "code",
   "execution_count": 251,
   "metadata": {},
   "outputs": [],
   "source": [
    "# let us reshape the images from 28*28 2d to 1d vector\n",
    "train_images = train_images.reshape(60000,28*28)\n",
    "test_images = test_images.reshape(10000,28*28)"
   ]
  },
  {
   "cell_type": "code",
   "execution_count": 252,
   "metadata": {},
   "outputs": [],
   "source": [
    "train_images = train_images.astype('float32')\n",
    "test_images = test_images.astype('float32')"
   ]
  },
  {
   "cell_type": "code",
   "execution_count": 253,
   "metadata": {},
   "outputs": [],
   "source": [
    "test_images = test_images/255\n",
    "train_images = train_images/255"
   ]
  },
  {
   "cell_type": "code",
   "execution_count": 254,
   "metadata": {},
   "outputs": [
    {
     "name": "stdout",
     "output_type": "stream",
     "text": [
      "train images shape (60000, 784)\n",
      "train labels shape (60000,)\n",
      "test images shape (10000, 784)\n",
      "test labels shape (10000,)\n"
     ]
    }
   ],
   "source": [
    "print(\"train images shape\", train_images.shape)\n",
    "print(\"train labels shape\", train_labels.shape)\n",
    "\n",
    "print(\"test images shape\", test_images.shape)\n",
    "print(\"test labels shape\", test_labels.shape)"
   ]
  },
  {
   "cell_type": "code",
   "execution_count": 255,
   "metadata": {},
   "outputs": [
    {
     "name": "stdout",
     "output_type": "stream",
     "text": [
      "train labels shape before one hot encoding (60000,)\n",
      "test labels shape before one hot encoding (10000,)\n",
      "train labels shape after one hot encoding (60000, 10) \n",
      "test labels shape after one hot encoding (10000, 10)\n"
     ]
    }
   ],
   "source": [
    "\n",
    "print(\"train labels shape before one hot encoding {}\".format(train_labels.shape))\n",
    "print(\"test labels shape before one hot encoding {}\".format(test_labels.shape))\n",
    "\n",
    "num_classes = 10\n",
    "train_labels  = to_categorical(train_labels, num_classes=num_classes)\n",
    "test_labels = to_categorical(test_labels, num_classes=num_classes)\n",
    "\n",
    "print(\"train labels shape after one hot encoding {} \".format(train_labels.shape))\n",
    "print(\"test labels shape after one hot encoding {}\".format(test_labels.shape))"
   ]
  },
  {
   "cell_type": "code",
   "execution_count": 256,
   "metadata": {},
   "outputs": [
    {
     "data": {
      "text/plain": [
       "array([0., 0., 0., 0., 0., 1., 0., 0., 0., 0.], dtype=float32)"
      ]
     },
     "execution_count": 256,
     "metadata": {},
     "output_type": "execute_result"
    }
   ],
   "source": [
    "train_labels[0]"
   ]
  },
  {
   "cell_type": "code",
   "execution_count": 257,
   "metadata": {},
   "outputs": [
    {
     "data": {
      "text/plain": [
       "array([0., 0., 0., 0., 0., 0., 0., 1., 0., 0.], dtype=float32)"
      ]
     },
     "execution_count": 257,
     "metadata": {},
     "output_type": "execute_result"
    }
   ],
   "source": [
    "test_labels[0]"
   ]
  },
  {
   "cell_type": "code",
   "execution_count": 258,
   "metadata": {},
   "outputs": [],
   "source": [
    "model = Sequential()\n",
    "model.add(Flatten())\n",
    "model.add(Dense(120,activation='relu'))\n",
    "model.add(Dense(80, activation='relu'))\n",
    "model.add(Dense(30, activation='relu'))\n",
    "model.add(Dense(10, activation='softmax'))"
   ]
  },
  {
   "cell_type": "code",
   "execution_count": 259,
   "metadata": {},
   "outputs": [],
   "source": [
    "model.compile(loss='categorical_crossentropy', optimizer='sgd', metrics=['accuracy'])"
   ]
  },
  {
   "cell_type": "code",
   "execution_count": null,
   "metadata": {},
   "outputs": [],
   "source": []
  },
  {
   "cell_type": "code",
   "execution_count": 260,
   "metadata": {},
   "outputs": [
    {
     "name": "stdout",
     "output_type": "stream",
     "text": [
      "Train on 48000 samples, validate on 12000 samples\n",
      "Epoch 1/30\n",
      "48000/48000 [==============================] - 5s 99us/sample - loss: 0.6777 - accuracy: 0.8166 - val_loss: 0.3281 - val_accuracy: 0.9078\n",
      "Epoch 2/30\n",
      "48000/48000 [==============================] - 4s 78us/sample - loss: 0.2999 - accuracy: 0.9135 - val_loss: 0.2475 - val_accuracy: 0.9297\n",
      "Epoch 3/30\n",
      "48000/48000 [==============================] - 4s 80us/sample - loss: 0.2377 - accuracy: 0.9327 - val_loss: 0.2062 - val_accuracy: 0.9432\n",
      "Epoch 4/30\n",
      "48000/48000 [==============================] - 4s 78us/sample - loss: 0.1977 - accuracy: 0.9429 - val_loss: 0.1824 - val_accuracy: 0.9488\n",
      "Epoch 5/30\n",
      "48000/48000 [==============================] - 4s 75us/sample - loss: 0.1677 - accuracy: 0.9517 - val_loss: 0.1645 - val_accuracy: 0.9537\n",
      "Epoch 6/30\n",
      "48000/48000 [==============================] - 4s 78us/sample - loss: 0.1451 - accuracy: 0.9581 - val_loss: 0.1442 - val_accuracy: 0.9582\n",
      "Epoch 7/30\n",
      "48000/48000 [==============================] - 4s 77us/sample - loss: 0.1274 - accuracy: 0.9628 - val_loss: 0.1322 - val_accuracy: 0.9622\n",
      "Epoch 8/30\n",
      "48000/48000 [==============================] - 4s 77us/sample - loss: 0.1133 - accuracy: 0.9675 - val_loss: 0.1387 - val_accuracy: 0.9590\n",
      "Epoch 9/30\n",
      "48000/48000 [==============================] - 4s 77us/sample - loss: 0.1020 - accuracy: 0.9699 - val_loss: 0.1206 - val_accuracy: 0.9658\n",
      "Epoch 10/30\n",
      "48000/48000 [==============================] - 4s 79us/sample - loss: 0.0924 - accuracy: 0.9732 - val_loss: 0.1171 - val_accuracy: 0.9663\n",
      "Epoch 11/30\n",
      "48000/48000 [==============================] - 4s 74us/sample - loss: 0.0838 - accuracy: 0.9755 - val_loss: 0.1101 - val_accuracy: 0.9680\n",
      "Epoch 12/30\n",
      "48000/48000 [==============================] - 4s 78us/sample - loss: 0.0766 - accuracy: 0.9777 - val_loss: 0.1091 - val_accuracy: 0.9693\n",
      "Epoch 13/30\n",
      "48000/48000 [==============================] - 4s 78us/sample - loss: 0.0707 - accuracy: 0.9792 - val_loss: 0.1051 - val_accuracy: 0.9688\n",
      "Epoch 14/30\n",
      "48000/48000 [==============================] - 4s 73us/sample - loss: 0.0651 - accuracy: 0.9814 - val_loss: 0.1040 - val_accuracy: 0.9689\n",
      "Epoch 15/30\n",
      "48000/48000 [==============================] - 4s 74us/sample - loss: 0.0597 - accuracy: 0.9821 - val_loss: 0.1008 - val_accuracy: 0.9704\n",
      "Epoch 16/30\n",
      "48000/48000 [==============================] - 4s 79us/sample - loss: 0.0546 - accuracy: 0.9850 - val_loss: 0.1230 - val_accuracy: 0.9651\n",
      "Epoch 17/30\n",
      "48000/48000 [==============================] - 4s 78us/sample - loss: 0.0513 - accuracy: 0.9853 - val_loss: 0.0995 - val_accuracy: 0.9707\n",
      "Epoch 18/30\n",
      "48000/48000 [==============================] - 4s 74us/sample - loss: 0.0470 - accuracy: 0.9867 - val_loss: 0.0995 - val_accuracy: 0.9707\n",
      "Epoch 19/30\n",
      "48000/48000 [==============================] - 4s 79us/sample - loss: 0.0435 - accuracy: 0.9877 - val_loss: 0.0998 - val_accuracy: 0.9713\n",
      "Epoch 20/30\n",
      "48000/48000 [==============================] - 4s 78us/sample - loss: 0.0400 - accuracy: 0.9886 - val_loss: 0.1013 - val_accuracy: 0.9704\n",
      "Epoch 21/30\n",
      "48000/48000 [==============================] - 4s 73us/sample - loss: 0.0375 - accuracy: 0.9896 - val_loss: 0.1069 - val_accuracy: 0.9691\n",
      "Epoch 22/30\n",
      "48000/48000 [==============================] - 4s 76us/sample - loss: 0.0347 - accuracy: 0.9904 - val_loss: 0.0961 - val_accuracy: 0.9711\n",
      "Epoch 23/30\n",
      "48000/48000 [==============================] - 4s 77us/sample - loss: 0.0319 - accuracy: 0.9913 - val_loss: 0.0968 - val_accuracy: 0.9715\n",
      "Epoch 24/30\n",
      "48000/48000 [==============================] - 4s 77us/sample - loss: 0.0296 - accuracy: 0.9924 - val_loss: 0.0977 - val_accuracy: 0.9722\n",
      "Epoch 25/30\n",
      "48000/48000 [==============================] - 4s 77us/sample - loss: 0.0269 - accuracy: 0.9933 - val_loss: 0.1042 - val_accuracy: 0.9714\n",
      "Epoch 26/30\n",
      "48000/48000 [==============================] - 4s 78us/sample - loss: 0.0252 - accuracy: 0.9937 - val_loss: 0.0985 - val_accuracy: 0.9711\n",
      "Epoch 27/30\n",
      "48000/48000 [==============================] - 4s 74us/sample - loss: 0.0227 - accuracy: 0.9945 - val_loss: 0.1003 - val_accuracy: 0.9717\n",
      "Epoch 28/30\n",
      "48000/48000 [==============================] - 4s 82us/sample - loss: 0.0215 - accuracy: 0.9948 - val_loss: 0.0995 - val_accuracy: 0.9725\n",
      "Epoch 29/30\n",
      "48000/48000 [==============================] - 4s 82us/sample - loss: 0.0200 - accuracy: 0.9954 - val_loss: 0.1026 - val_accuracy: 0.9723\n",
      "Epoch 30/30\n",
      "48000/48000 [==============================] - 4s 81us/sample - loss: 0.0176 - accuracy: 0.9965 - val_loss: 0.1002 - val_accuracy: 0.9727\n"
     ]
    },
    {
     "data": {
      "text/plain": [
       "<tensorflow.python.keras.callbacks.History at 0x2159bac7048>"
      ]
     },
     "execution_count": 260,
     "metadata": {},
     "output_type": "execute_result"
    }
   ],
   "source": [
    "log_dir = \"logs\\\\fit\\\\\" + datetime.datetime.now().strftime(\"%Y%m%d-%H%M%S\")\n",
    "tensorboard_callback = tf.keras.callbacks.TensorBoard(log_dir=log_dir, histogram_freq=1)\n",
    "model.fit(train_images,train_labels,epochs=30,validation_split=0.2,callbacks=[tensorboard_callback])"
   ]
  },
  {
   "cell_type": "code",
   "execution_count": 261,
   "metadata": {},
   "outputs": [
    {
     "data": {
      "text/plain": [
       "Reusing TensorBoard on port 6006 (pid 18520), started 0:16:57 ago. (Use '!kill 18520' to kill it.)"
      ]
     },
     "metadata": {},
     "output_type": "display_data"
    },
    {
     "data": {
      "text/html": [
       "\n",
       "      <iframe id=\"tensorboard-frame-ff6a78256fe680b4\" width=\"100%\" height=\"800\" frameborder=\"0\">\n",
       "      </iframe>\n",
       "      <script>\n",
       "        (function() {\n",
       "          const frame = document.getElementById(\"tensorboard-frame-ff6a78256fe680b4\");\n",
       "          const url = new URL(\"/\", window.location);\n",
       "          url.port = 6006;\n",
       "          frame.src = url;\n",
       "        })();\n",
       "      </script>\n",
       "  "
      ],
      "text/plain": [
       "<IPython.core.display.HTML object>"
      ]
     },
     "metadata": {},
     "output_type": "display_data"
    }
   ],
   "source": [
    "%tensorboard --logdir logs/fit"
   ]
  },
  {
   "cell_type": "code",
   "execution_count": null,
   "metadata": {},
   "outputs": [],
   "source": []
  }
 ],
 "metadata": {
  "kernelspec": {
   "display_name": "Python 3",
   "language": "python",
   "name": "python3"
  },
  "language_info": {
   "codemirror_mode": {
    "name": "ipython",
    "version": 3
   },
   "file_extension": ".py",
   "mimetype": "text/x-python",
   "name": "python",
   "nbconvert_exporter": "python",
   "pygments_lexer": "ipython3",
   "version": "3.7.3"
  }
 },
 "nbformat": 4,
 "nbformat_minor": 2
}
